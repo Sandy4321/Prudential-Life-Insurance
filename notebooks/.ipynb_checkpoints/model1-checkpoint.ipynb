{
 "cells": [
  {
   "cell_type": "code",
   "execution_count": 1,
   "metadata": {
    "collapsed": true
   },
   "outputs": [],
   "source": [
    "import numpy as np, pandas as pd\n",
    "import matplotlib.pyplot as plt\n",
    "import seaborn as sns\n",
    "from sklearn.decomposition import RandomizedPCA\n",
    "from sklearn.preprocessing import LabelEncoder\n",
    "import mord\n",
    "%matplotlib inline\n",
    "plt.style.use('fivethirtyeight')\n",
    "sns.set_style(\"white\", {'ytick.major.size': 10.0})\n",
    "sns.set_context(\"poster\", font_scale=1.1)"
   ]
  },
  {
   "cell_type": "markdown",
   "metadata": {},
   "source": [
    "## Preprocessing"
   ]
  },
  {
   "cell_type": "code",
   "execution_count": 2,
   "metadata": {
    "collapsed": true
   },
   "outputs": [],
   "source": [
    "train = pd.read_csv('../input/train.csv')\n",
    "test = pd.read_csv('../input/test.csv')"
   ]
  },
  {
   "cell_type": "code",
   "execution_count": 3,
   "metadata": {
    "collapsed": false
   },
   "outputs": [],
   "source": [
    "categorical = [\n",
    "    'Product_Info_1',\n",
    "    'Product_Info_2', \n",
    "    'Product_Info_3', \n",
    "    'Product_Info_5', \n",
    "    'Product_Info_6', \n",
    "    'Product_Info_7', \n",
    "    'Employment_Info_2', \n",
    "    'Employment_Info_3', \n",
    "    'Employment_Info_5', \n",
    "    'InsuredInfo_1', \n",
    "    'InsuredInfo_2', \n",
    "    'InsuredInfo_3', \n",
    "    'InsuredInfo_4', \n",
    "    'InsuredInfo_5', \n",
    "    'InsuredInfo_6', \n",
    "    'InsuredInfo_7', \n",
    "    'Insurance_History_1', \n",
    "    'Insurance_History_2', \n",
    "    'Insurance_History_3', \n",
    "    'Insurance_History_4', \n",
    "    'Insurance_History_7', \n",
    "    'Insurance_History_8', \n",
    "    'Insurance_History_9', \n",
    "    'Family_Hist_1', \n",
    "    'Medical_History_2', \n",
    "    'Medical_History_3', \n",
    "    'Medical_History_4', \n",
    "    'Medical_History_5', \n",
    "    'Medical_History_6', \n",
    "    'Medical_History_7', \n",
    "    'Medical_History_8', \n",
    "    'Medical_History_9', \n",
    "    'Medical_History_11', \n",
    "    'Medical_History_12', \n",
    "    'Medical_History_13', \n",
    "    'Medical_History_14', \n",
    "    'Medical_History_16', \n",
    "    'Medical_History_17', \n",
    "    'Medical_History_18', \n",
    "    'Medical_History_19', \n",
    "    'Medical_History_20', \n",
    "    'Medical_History_21', \n",
    "    'Medical_History_22', \n",
    "    'Medical_History_23', \n",
    "    'Medical_History_25', \n",
    "    'Medical_History_26', \n",
    "    'Medical_History_27', \n",
    "    'Medical_History_28', \n",
    "    'Medical_History_29', \n",
    "    'Medical_History_30', \n",
    "    'Medical_History_31', \n",
    "    'Medical_History_33', \n",
    "    'Medical_History_34', \n",
    "    'Medical_History_35', \n",
    "    'Medical_History_36', \n",
    "    'Medical_History_37', \n",
    "    'Medical_History_38', \n",
    "    'Medical_History_39', \n",
    "    'Medical_History_40', \n",
    "    'Medical_History_41'\n",
    "]\n",
    "\n",
    "#continuous\n",
    "normalized = [\n",
    "    'Product_Info_4', \n",
    "    'Ins_Age', \n",
    "    'Ht', \n",
    "    'Wt', \n",
    "    'BMI', \n",
    "    'Employment_Info_1', \n",
    "    'Employment_Info_4', \n",
    "    'Employment_Info_6', \n",
    "    'Insurance_History_5', \n",
    "    'Family_Hist_2', \n",
    "    'Family_Hist_3', \n",
    "    'Family_Hist_4', \n",
    "    'Family_Hist_5'\n",
    "]\n",
    "\n",
    "#discrete\n",
    "unnormalized = [\n",
    "    'Medical_History_1', \n",
    "    'Medical_History_10', \n",
    "    'Medical_History_15', \n",
    "    'Medical_History_24', \n",
    "    'Medical_History_32'\n",
    "]\n",
    "\n",
    "dummies = []\n",
    "for c in train.columns:\n",
    "    if c.startswith('Medical_K'):\n",
    "        dummies.append(c)"
   ]
  },
  {
   "cell_type": "markdown",
   "metadata": {},
   "source": [
    "### Categorical\n",
    "c1: use one-hot encoding for string features (Product_Info_2) and number of unique values less than 5           \n",
    "c2: use label encoding for all the other features\n",
    "### Continuous\n",
    "n: do nothing\n",
    "### Discrete\n",
    "u: normalize each variable respectively and convert to continuous (0~1)\n",
    "### Dummy\n",
    "d: do nothing\n",
    "\n",
    "### Configuration of features after preprocessing: dummy (c1+d), label (c2), normalized (n+u) "
   ]
  },
  {
   "cell_type": "code",
   "execution_count": null,
   "metadata": {
    "collapsed": true
   },
   "outputs": [],
   "source": []
  }
 ],
 "metadata": {
  "kernelspec": {
   "display_name": "Python 2",
   "language": "python",
   "name": "python2"
  },
  "language_info": {
   "codemirror_mode": {
    "name": "ipython",
    "version": 2
   },
   "file_extension": ".py",
   "mimetype": "text/x-python",
   "name": "python",
   "nbconvert_exporter": "python",
   "pygments_lexer": "ipython2",
   "version": "2.7.10"
  }
 },
 "nbformat": 4,
 "nbformat_minor": 0
}
